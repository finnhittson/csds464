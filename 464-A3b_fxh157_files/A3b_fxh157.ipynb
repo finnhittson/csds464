{
 "cells": [
  {
   "attachments": {},
   "cell_type": "markdown",
   "metadata": {},
   "source": [
    "# A3b: Filtering  \n",
    "Finn Hittson - fxh157  \n",
    "CSDS 464  \n",
    "Due: March 6th, 2023  "
   ]
  },
  {
   "attachments": {},
   "cell_type": "markdown",
   "metadata": {},
   "source": [
    "## 1 Filtering"
   ]
  },
  {
   "attachments": {},
   "cell_type": "markdown",
   "metadata": {},
   "source": [
    "### 1a. A moving average filter"
   ]
  },
  {
   "attachments": {},
   "cell_type": "markdown",
   "metadata": {},
   "source": [
    "Part (A):  \n",
    "$y_M[n]$ has the form\n",
    "$$\n",
    "y_M[n]=\\frac{1}{M}\\sum_{k=0}^{M-1}x[n-k]=\\frac{1}{M}(x[n]+x[n-1]+\\cdots+x[n-M+1])\n",
    "$$\n",
    "$y_{M-1}[n-1]$ has the form\n",
    "$$\n",
    "y_{M-1}[n-1]=\\frac{1}{M-1}\\sum_{k=0}^{M-2}x[n-k-1]=\\frac{1}{M}(x[n-1]+x[n-2]+\\cdots+x[n-M+1])\n",
    "$$\n",
    "Distribute the $\\frac{1}{M}$ in $y_M[n]$.\n",
    "$$\n",
    "y_M[n]=\\frac{x[n]}{M}+\\frac{x[n-1]}{M}+\\cdots+\\frac{x[n-M+1]}{M}\n",
    "$$\n",
    "Set $1-\\lambda=\\frac{1}{M}$. This makes $\\lambda=\\frac{M-1}{M}$. Reformat the expression.\n",
    "$$\n",
    "y_M[n]=(1-\\lambda)x[n]+\\frac{1}{M}\\sum_{k=0}^{M-1}x[n-k-1]=(1-\\lambda)x[n]+y_M[n-1]\n",
    "$$\n",
    "Note that $\\lambda y_{M-1}[n-1]=y_M[n-1]$ so making this substitution gives us the desired result.\n",
    "$$\n",
    "y_M[n]=\\lambda y_{M-1}[n-1]+(1-\\lambda)x[n]\n",
    "$$"
   ]
  },
  {
   "attachments": {},
   "cell_type": "markdown",
   "metadata": {},
   "source": [
    "Part (B):  \n",
    "Write the derived expression in the form of summations.\n",
    "$$\n",
    "\\frac{1}{M}\\sum_{k=0}^{M-1}x[n-k]=\\lambda\\frac{1}{M-1}\\sum_{k=0}^{M-2}x[n-k-1]+(1-\\lambda)x[n]\n",
    "$$\n",
    "Approximate $\\frac{1}{M-1}\\sum_{k=0}^{M-2}x[n-k-1]\\approx\\frac{1}{M}\\sum_{k=0}^{M-1}x[n-k-1]$ and simplify the expression.\n",
    "$$\n",
    "\\frac{1}{M}\\sum_{k=0}^{M-1}x[n-k]\\approx\\lambda\\frac{1}{M}\\sum_{k=0}^{M-1}x[n-k-1]+(1-\\lambda)x[n]\n",
    "$$\n",
    "Let $y[n]=\\frac{1}{M}\\sum_{k=0}^{M-1}x[n-k]$ to get our desired result.\n",
    "$$\n",
    "y[n]=\\lambda y[n-1]+(1-\\lambda)x[n]\n",
    "$$"
   ]
  },
  {
   "attachments": {},
   "cell_type": "markdown",
   "metadata": {},
   "source": [
    "Part (C):  \n",
    "When $\\lambda$ is increased, this causes $y[n-1]$ to become closer in value to $y[n]$ and has the opposite effect when $\\lambda$ is decreased. "
   ]
  },
  {
   "cell_type": "markdown",
   "metadata": {},
   "source": []
  }
 ],
 "metadata": {
  "kernelspec": {
   "display_name": "Python 3",
   "language": "python",
   "name": "python3"
  },
  "language_info": {
   "codemirror_mode": {
    "name": "ipython",
    "version": 3
   },
   "file_extension": ".py",
   "mimetype": "text/x-python",
   "name": "python",
   "nbconvert_exporter": "python",
   "pygments_lexer": "ipython3",
   "version": "3.11.1"
  },
  "orig_nbformat": 4,
  "vscode": {
   "interpreter": {
    "hash": "5238573367df39f7286bb46f9ff5f08f63a01a80960060ce41e3c79b190280fa"
   }
  }
 },
 "nbformat": 4,
 "nbformat_minor": 2
}
