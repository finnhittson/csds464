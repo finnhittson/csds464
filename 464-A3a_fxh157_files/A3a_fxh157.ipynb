{
 "cells": [
  {
   "attachments": {},
   "cell_type": "markdown",
   "metadata": {},
   "source": [
    "# A3a: Signals and Noise\n",
    "Finn Hittson - fxh157  \n",
    "CSDS 464  \n",
    "Due: February 27th, 2023"
   ]
  },
  {
   "cell_type": "code",
   "execution_count": 1,
   "metadata": {},
   "outputs": [],
   "source": [
    "import A3a_fxh157 as a3a\n",
    "import math\n",
    "import matplotlib.pyplot as plt\n",
    "import numpy as np\n",
    "import scipy\n",
    "import IPython\n",
    "\n",
    "import sys\n",
    "sys.path.append('../464-A1b_fxh157_files/')\n",
    "import A1b_fxh157 as a1b"
   ]
  },
  {
   "attachments": {},
   "cell_type": "markdown",
   "metadata": {},
   "source": [
    "## 1. Continuous signals and sampling"
   ]
  },
  {
   "attachments": {},
   "cell_type": "markdown",
   "metadata": {},
   "source": [
    "### 1a. Sampled functions"
   ]
  },
  {
   "attachments": {},
   "cell_type": "markdown",
   "metadata": {},
   "source": [
    "Example 1: Plot of a $1000Hz$ sinewave sampled at $8000Hz$."
   ]
  },
  {
   "cell_type": "markdown",
   "metadata": {},
   "source": [
    "a3a.plot_sampled_function(g=a1b.sinewave, fs=8000, tlim=(0, 6), tscale=0.001, tunits=\"msec\", title=\"Sinewave\", f=1000)"
   ]
  },
  {
   "attachments": {},
   "cell_type": "markdown",
   "metadata": {},
   "source": [
    "Example 2: Plot of a $10Hz$ gabor function sampled at $100Hz$."
   ]
  },
  {
   "cell_type": "markdown",
   "metadata": {},
   "source": [
    "a3a.plot_sampled_function(g=a1b.gabore, fs=100, tlim=(-0.3,0.3), tscale=1, tunits=\"sec\", title=\"Gabor function\", f=10, sigma=0.1)"
   ]
  },
  {
   "attachments": {},
   "cell_type": "markdown",
   "metadata": {},
   "source": [
    "Example 3: Plot of a $200Hz$ gammatone sampled at $1000Hz$."
   ]
  },
  {
   "cell_type": "markdown",
   "metadata": {},
   "source": [
    "a3a.plot_sampled_function(g=a1b.gammatone, fs=1000, tlim=(0,50/1000), tscale=1, tunits=\"msec\", title=\"Gammatone\", f=200)"
   ]
  },
  {
   "attachments": {},
   "cell_type": "markdown",
   "metadata": {},
   "source": [
    "### 1b. The Nyquist frequency and aliasing"
   ]
  },
  {
   "attachments": {},
   "cell_type": "markdown",
   "metadata": {},
   "source": [
    "Example 4: Plot of a $315Hz$ sinewave sampled at $1000Hz$. The sinewave below the Nyquist frequency shows samples per period that are unevenly distributed."
   ]
  },
  {
   "cell_type": "markdown",
   "metadata": {},
   "source": [
    "a3a.plot_sampled_function(g=a1b.sinewave, fs=1000, tlim=(0, 20), tscale=0.001, tunits=\"msec\", f=315)"
   ]
  },
  {
   "attachments": {},
   "cell_type": "markdown",
   "metadata": {},
   "source": [
    "Example 5: Plot of a $500Hz$ sine wave sampled at $1000Hz$. Sinewave at Nyquist."
   ]
  },
  {
   "cell_type": "markdown",
   "metadata": {},
   "source": [
    "a3a.plot_sampled_function(g=a1b.sinewave, fs=1000, tlim=(0, 20), tscale=0.001, title=\"Sinewave\", tunits=\"msec\", f=500)"
   ]
  },
  {
   "attachments": {},
   "cell_type": "markdown",
   "metadata": {},
   "source": [
    "Example 6: Plot of a $500Hz$ cosine wave sampled at $1000Hz$. Cosine at Nyquist."
   ]
  },
  {
   "cell_type": "markdown",
   "metadata": {},
   "source": [
    "a3a.plot_sampled_function(g=a1b.sinewave, fs=1000, tlim=(0, 20), tscale=0.001, title=\"Cosine\", tunits=\"msec\", f=500, d=0.25)"
   ]
  },
  {
   "attachments": {},
   "cell_type": "markdown",
   "metadata": {},
   "source": [
    "Example 7: Plot of a $1100Hz$ cosine wave sampled at $1000Hz$. Cosine wave sampled above Nyquist to show aliasing."
   ]
  },
  {
   "cell_type": "markdown",
   "metadata": {},
   "source": [
    "a3a.plot_sampled_function(g=a1b.sinewave, fs=1000, tlim=(0, 40), tscale=0.001, tunits=\"msec\", title=\"Cosine\", f=1100, d=0.25/5)"
   ]
  },
  {
   "attachments": {},
   "cell_type": "markdown",
   "metadata": {},
   "source": [
    "## 2. Signals"
   ]
  },
  {
   "attachments": {},
   "cell_type": "markdown",
   "metadata": {},
   "source": [
    "### 2a. Delta and step functions"
   ]
  },
  {
   "attachments": {},
   "cell_type": "markdown",
   "metadata": {},
   "source": [
    "Example 8: Plot of the Dirac delta function delayed by 2 seconds."
   ]
  },
  {
   "attachments": {},
   "cell_type": "markdown",
   "metadata": {},
   "source": [
    "a3a.plot_delta_step(t0=0, tn=6, fs=1, g=a3a.d, tau=2, title=\"Dirac delta function\", tunits=\"msec\", plot_type=\"stem\")"
   ]
  },
  {
   "attachments": {},
   "cell_type": "markdown",
   "metadata": {},
   "source": [
    "Example 9: Plot a step function starting at 50 ms that is 25 ms in duration and sampled at 500 Hz"
   ]
  },
  {
   "cell_type": "markdown",
   "metadata": {},
   "source": [
    "a3a.plot_delta_step(t0=0, tn=80, fs=500, g=a3a.u, tau=50, T=25, tscale=0.001, tunits=\"msec\", plot_type=\"stem\")"
   ]
  },
  {
   "attachments": {},
   "cell_type": "markdown",
   "metadata": {},
   "source": [
    "### 2b. `gensignal`"
   ]
  },
  {
   "attachments": {},
   "cell_type": "markdown",
   "metadata": {},
   "source": [
    "t0, y0 = a3a.gensignal(t0=0, tn=100, g=a3a.u, fs=0.5, tau=50, T=25, tscale=1)\n",
    "a3a.plot_stem(t0, y0, title=\"Step Function\", tunits=\"msec\")"
   ]
  },
  {
   "attachments": {},
   "cell_type": "markdown",
   "metadata": {},
   "source": [
    "t, y = a3a.gensignal(t0=0, tn=5, g=a3a.d, fs=1, tau=2, tscale=1)\n",
    "a3a.plot_stem(t, y, title=\"Dirac delta function\", tunits=\"msec\")"
   ]
  },
  {
   "cell_type": "markdown",
   "metadata": {},
   "source": [
    "t, y = a3a.gensignal(t0=0, tn=0.06, g=a1b.gammatone, fs=1000, tau=0, T=0.06, f=100)\n",
    "a3a.plot_stem(t, y, title=\"Gammatone\", tunits=\"sec\")"
   ]
  },
  {
   "attachments": {},
   "cell_type": "markdown",
   "metadata": {},
   "source": [
    "## 3. Noise and SNR"
   ]
  },
  {
   "attachments": {},
   "cell_type": "markdown",
   "metadata": {},
   "source": [
    "### 3a. `energy`, `power`, and `snr`"
   ]
  },
  {
   "cell_type": "markdown",
   "metadata": {},
   "source": [
    "t, y = a3a.gensignal(t0=0, tn=4, g=a1b.sinewave, fs=30, tau=1, T=2, tscale=1, f=1)\n",
    "print(f\"sinewave energy: {a3a.energy(y)}\")\n",
    "print(f\"sinewave power: {a3a.power(y)}\")\n",
    "a3a.plot_stem(t, y, title=\"Sinewave\", tunits=\"sec\")"
   ]
  },
  {
   "cell_type": "markdown",
   "metadata": {},
   "source": [
    "t, y = a3a.gensignal(t0=0, tn=0.1, g=a1b.gammatone, fs=1000, tau=0.02, T=0.06, tscale=1, f=100)\n",
    "print(f\"gammatone energy: {a3a.energy(y)}\")\n",
    "print(f\"gammatone power: {a3a.power(y)}\")\n",
    "a3a.plot_stem(t, y, title=\"Gammatone\", tunits=\"sec\")"
   ]
  },
  {
   "attachments": {},
   "cell_type": "markdown",
   "metadata": {},
   "source": [
    "### 3b. Noisy signals"
   ]
  },
  {
   "attachments": {},
   "cell_type": "markdown",
   "metadata": {},
   "source": [
    "Example: Plot a $100ms$ waveform sampled at $1000Hz$ with a delta function delayed by $50ms$ with noise standard deviation of $0.1$."
   ]
  },
  {
   "cell_type": "markdown",
   "metadata": {},
   "source": [
    "t, y, n = a3a.noisysignal(t0=0, tn=100, g=a3a.d, fs=1000, tau=50, T=0, s=0.1, tscale=0.001)\n",
    "a3a.plot_noisysignal(t=t, y=y+n, title=\"Sinusodial\", tunits=\"msec\", plot_type=\"stem\")"
   ]
  },
  {
   "attachments": {},
   "cell_type": "markdown",
   "metadata": {},
   "source": [
    "Example: Plot a waveform sampled at $8000Hz$ with a $100Hz$ sine wave lasting for $100ms$ with additive Gaussian noise at $10dB$ SNR."
   ]
  },
  {
   "cell_type": "markdown",
   "metadata": {},
   "source": [
    "t, y, n = a3a.noisysignal(t0=0, tn=0.1, g=a1b.sinewave, fs=8000, tau=0, T=0.1, s=0.1, tscale=1, f=100)\n",
    "a3a.plot_noisysignal(t=t, y=y+n, title=\"Sinusodial\", tunits=\"sec\", plot_type=\"line\")"
   ]
  },
  {
   "cell_type": "markdown",
   "metadata": {},
   "source": [
    "t, y, n = a3a.noisysignal(t0=0, tn=5, g=a3a.u, fs=500, tau=1, T=2, s=0.1)\n",
    "a3a.plot_noisysignal(t, y+n, \"Step Function\")"
   ]
  },
  {
   "cell_type": "markdown",
   "metadata": {},
   "source": [
    "t, y, n = a3a.noisysignal(t0=0, tn=0.1, g=a1b.gammatone, fs=5000, tau=0.01, T=0.06, s=0.000025, f=100)\n",
    "a3a.plot_noisysignal(t, y+n, title=\"Gammatone\")"
   ]
  },
  {
   "attachments": {},
   "cell_type": "markdown",
   "metadata": {},
   "source": [
    "### 3c. Noise level specified by SNR"
   ]
  },
  {
   "attachments": {},
   "cell_type": "markdown",
   "metadata": {},
   "source": [
    "Calculating the signal power over the entire wave form leads to a biased result since it includes the regions of the waveform that are not expressing the signal. Therefore this would cause the computed signal power to be falsely low since the signals wave is being averaged over the entire waveform. The following examples show the computed sigma with and without knowledge of the signals location."
   ]
  },
  {
   "cell_type": "code",
   "execution_count": 2,
   "metadata": {},
   "outputs": [
    {
     "name": "stdout",
     "output_type": "stream",
     "text": [
      "target sigma: 0.2\n",
      "known signal location sigma: 0.2818\n",
      "unknown signal location sigma: 0.211\n"
     ]
    },
    {
     "data": {
      "image/png": "[encoded data removed]",
      "text/plain": [
       "<Figure size 640x200 with 1 Axes>"
      ]
     },
     "metadata": {},
     "output_type": "display_data"
    }
   ],
   "source": [
    "s = 0.2\n",
    "sigma_known = sigma_unknown = 0\n",
    "N = 100\n",
    "fs = 100\n",
    "tau = 4\n",
    "T = 2\n",
    "\n",
    "for _ in range(N):\n",
    "    t, x, n = a3a.noisysignal(t0=0, tn=10, g=a1b.sinewave, fs=fs, tau=tau, T=T, s=s)\n",
    "\n",
    "    Ps_known = a3a.power((x+n)[fs*tau:fs*(tau+T)])\n",
    "    Ps_known = a3a.power(np.concatenate((n[:fs*tau], n[fs*(tau+T):])))\n",
    "    SNR_known = a3a.snr(Ps_known, Ps_known)\n",
    "\n",
    "    Ps_unknown = a3a.power(x+n)\n",
    "    Pn_unknown = a3a.power(n)\n",
    "    SNR_unknown = a3a.snr(Ps_unknown, Pn_unknown)\n",
    "\n",
    "    sigma_known += a3a.snr2sigma(x, snr=SNR_known)\n",
    "    sigma_unknown += a3a.snr2sigma(x, snr=SNR_unknown)\n",
    "\n",
    "print(f\"target sigma: {s}\")\n",
    "print(f\"known signal location sigma: {round(sigma_known/N, 4)}\")\n",
    "print(f\"unknown signal location sigma: {round(sigma_unknown/N, 4)}\")\n",
    "plt.figure().set_figheight(2)\n",
    "plt.plot(t, x+n, label=\"noisy waveform\")\n",
    "plt.plot(t[400:600], x[400:600], 'r', label=\"underlying signal\")\n",
    "plt.legend()\n",
    "plt.show()"
   ]
  },
  {
   "attachments": {},
   "cell_type": "markdown",
   "metadata": {},
   "source": [
    "### 3d. Estimating SNR"
   ]
  },
  {
   "cell_type": "markdown",
   "metadata": {},
   "source": [
    "fs = 1000\n",
    "tau = 1\n",
    "T = 5\n",
    "t, y, n = a3a.noisysignal(t0=0, tn=7, g=a1b.sinewave, fs=fs, tau=tau, T=T, s=0.1)\n",
    "signal = y+n\n",
    "\n",
    "Ps = a3a.power(y)\n",
    "Pn = a3a.power(n)\n",
    "print(f\"signal start index: {fs*tau}/{len(signal)}\")\n",
    "print(f\"signal end index: {fs*(tau+T)}/{len(signal)}\")\n",
    "print(f\"snr: {round(10*math.log10(a3a.snr(Ps, Pn)), 3)}dB\\n\")\n",
    "\n",
    "th = max(signal)*(4*s)\n",
    "start, stop = a3a.extent(y=signal, th=th)\n",
    "Ps = a3a.power(signal[start:stop])\n",
    "Pn = a3a.power(np.concatenate((signal[:start], signal[stop:])))\n",
    "print(f\"estimated start index: {start}/{len(signal)}\")\n",
    "print(f\"estimated end index: {stop}/{len(signal)}\")\n",
    "print(f\"estimated snr: {round(10*math.log10(a3a.snr(Ps, Pn)), 3)}dB\")\n",
    "\n",
    "a3a.plot_noisysignal(t, signal, title=\"Sinewave\")"
   ]
  },
  {
   "attachments": {},
   "cell_type": "markdown",
   "metadata": {},
   "source": [
    "Example: Plot 100 ms waveform sampled at 8000 Hz with a 100 Hz sine wave lasting for 100 ms with additive Gaussian noise at 10 dB SNR."
   ]
  },
  {
   "cell_type": "markdown",
   "metadata": {},
   "source": [
    "t, x, _ = a3a.noisysignal(t0=0, tn=100, g=a1b.sinewave, fs=8, tau=0, T=100, s=0, tscale=1, f=0.1)\n",
    "s = a3a.snr2sigma(x, snr=10)\n",
    "print(f\"sigma: {s}\")\n",
    "t, y, n = a3a.noisysignal(t0=0, tn=100, g=a1b.sinewave, fs=8, tau=0, T=100, s=s, tscale=1, f=0.1)\n",
    "plt.figure().set_figheight(2)\n",
    "a3a.plot_noisysignal(t=t, y=y+n, title=\"Sinewave\", tunits=\"msec\")"
   ]
  },
  {
   "attachments": {},
   "cell_type": "markdown",
   "metadata": {},
   "source": [
    "Example: Plot a 2 ms step function with a delay of 50 ms in a waveform of 100 ms with 10 dB SNR calculated with knowledge of the signal location."
   ]
  },
  {
   "cell_type": "markdown",
   "metadata": {},
   "source": [
    "fs = 8\n",
    "tau = 50\n",
    "T = 2\n",
    "t, x, _ = a3a.noisysignal(t0=0, tn=100, g=a3a.u, fs=fs, tau=tau, T=T, s=0, tscale=1)\n",
    "s = a3a.snr2sigma(x[fs*tau:fs*(tau+T)], snr=10)\n",
    "print(f\"sigma: {s}\")\n",
    "t, x, n = a3a.noisysignal(t0=0, tn=100, g=a3a.u, fs=fs, tau=tau, T=T, s=s, tscale=1)\n",
    "plt.figure().set_figheight(2)\n",
    "a3a.plot_noisysignal(t=t, y=x+n, title=\"Step function\", tunits=\"sec\")"
   ]
  },
  {
   "attachments": {},
   "cell_type": "markdown",
   "metadata": {},
   "source": [
    "## 4. Grand synthesis"
   ]
  },
  {
   "cell_type": "markdown",
   "metadata": {},
   "source": [
    "t, x, n = a3a.noisysignal(t0=0, tn=10, g=a1b.gammatone, fs=5000, tau=5, T=0.3, s=0.000005, f=500)\n",
    "plt.figure().set_figheight(2)\n",
    "a3a.plot_noisysignal(t, x+n, title=\"Gammatone\")\n",
    "scipy.io.wavfile.write(\"sound.wav\", rate=44100, data=(x+n).astype(np.float32)*10000)\n",
    "IPython.display.Audio(\"sound.wav\")"
   ]
  }
 ],
 "metadata": {
  "kernelspec": {
   "display_name": "Python 3",
   "language": "python",
   "name": "python3"
  },
  "language_info": {
   "codemirror_mode": {
    "name": "ipython",
    "version": 3
   },
   "file_extension": ".py",
   "mimetype": "text/x-python",
   "name": "python",
   "nbconvert_exporter": "python",
   "pygments_lexer": "ipython3",
   "version": "3.11.1"
  },
  "orig_nbformat": 4,
  "vscode": {
   "interpreter": {
    "hash": "5238573367df39f7286bb46f9ff5f08f63a01a80960060ce41e3c79b190280fa"
   }
  }
 },
 "nbformat": 4,
 "nbformat_minor": 2
}
