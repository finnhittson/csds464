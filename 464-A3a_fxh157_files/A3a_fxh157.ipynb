{
 "cells": [
  {
   "attachments": {},
   "cell_type": "markdown",
   "metadata": {},
   "source": [
    "# A3a: Signals and Noise\n",
    "Finn Hittson - fxh157  \n",
    "CSDS 464  \n",
    "Due: February 27th, 2023"
   ]
  },
  {
   "attachments": {},
   "cell_type": "markdown",
   "metadata": {},
   "source": [
    "## 1. Continuous signals and sampling"
   ]
  },
  {
   "attachments": {},
   "cell_type": "markdown",
   "metadata": {},
   "source": [
    "### 1a. Sampled functions"
   ]
  },
  {
   "cell_type": "code",
   "execution_count": 1,
   "metadata": {},
   "outputs": [],
   "source": [
    "import A3a_fxh157 as a3a\n",
    "import math\n",
    "import matplotlib.pyplot as plt\n",
    "import numpy as np\n",
    "\n",
    "import sys\n",
    "sys.path.append('../464-A1b_fxh157_files/')\n",
    "import A1b_fxh157 as a1b"
   ]
  },
  {
   "cell_type": "markdown",
   "metadata": {},
   "source": [
    "a3a.plot_sampled_function(g=a1b.sinewave, fs=5, tlim=(0, 6), tscale=1, tunits=\"msec\", f=1)"
   ]
  },
  {
   "cell_type": "markdown",
   "metadata": {},
   "source": [
    "a3a.plot_sampled_function(g=a1b.gabore, fs=3, tlim=(-0.03, 0.03), tscale=0.01, tunits=\"ms\", f=100, a=0.106, sigma=0.01)"
   ]
  },
  {
   "cell_type": "markdown",
   "metadata": {},
   "source": [
    "a3a.plot_sampled_function(g=a1b.gammatone, fs=5, tlim=(0,0.04), tscale=0.01, tunits=\"ms\", f=200)"
   ]
  },
  {
   "attachments": {},
   "cell_type": "markdown",
   "metadata": {},
   "source": [
    "### 1b. The Nyquist frequency and aliasing"
   ]
  },
  {
   "cell_type": "markdown",
   "metadata": {},
   "source": [
    "a3a.plot_sampled_function(g=a1b.sinewave, fs=5, tlim=(0, 6), tscale=1.3, tunits=\"msec\", f=1)"
   ]
  },
  {
   "cell_type": "markdown",
   "metadata": {},
   "source": [
    "a3a.plot_sampled_function(g=a1b.sinewave, fs=2, tlim=(0, 6), tscale=1, tunits=\"msec\", f=1)"
   ]
  },
  {
   "cell_type": "markdown",
   "metadata": {},
   "source": [
    "a3a.plot_sampled_function(g=a1b.sinewave, fs=2, tlim=(0, 6), tscale=1, tunits=\"msec\", f=1, d=0.25)"
   ]
  },
  {
   "cell_type": "markdown",
   "metadata": {},
   "source": [
    "a3a.plot_sampled_function(g=a1b.sinewave, fs=6, tlim=(0, 10), tscale=1, tunits=\"msec\", f=5, d=0.25/5)"
   ]
  },
  {
   "attachments": {},
   "cell_type": "markdown",
   "metadata": {},
   "source": [
    "## 2. Signals"
   ]
  },
  {
   "attachments": {},
   "cell_type": "markdown",
   "metadata": {},
   "source": [
    "### 2a. Delta and step functions"
   ]
  },
  {
   "cell_type": "markdown",
   "metadata": {},
   "source": [
    "a3a.plot_delta_step(t=10, fs=2, g=a3a.d, plot_type=\"stem\")"
   ]
  },
  {
   "cell_type": "markdown",
   "metadata": {},
   "source": [
    "a3a.plot_delta_step(t=10, fs=2, g=a3a.u, plot_type=\"stem\")"
   ]
  },
  {
   "attachments": {},
   "cell_type": "markdown",
   "metadata": {},
   "source": [
    "### 2b. `gensignal`"
   ]
  },
  {
   "cell_type": "markdown",
   "metadata": {},
   "source": [
    "t, y = a3a.gensignal(t=0, g=a1b.gammatone, fs=100, tau=0, T=0.06, f=100)\n",
    "a3a.plot_stem(t, y, title=\"Gammatone\")"
   ]
  },
  {
   "attachments": {},
   "cell_type": "markdown",
   "metadata": {},
   "source": [
    "## 3. Noise and SNR"
   ]
  },
  {
   "attachments": {},
   "cell_type": "markdown",
   "metadata": {},
   "source": [
    "### 3a. `energy`, `power`, and `snr`"
   ]
  },
  {
   "cell_type": "code",
   "execution_count": 2,
   "metadata": {},
   "outputs": [],
   "source": [
    "def energy(x):\n",
    "    return np.linalg.norm(x)**2\n",
    "\n",
    "def power(x):\n",
    "    return np.linalg.norm(x)**2/len(x)\n",
    "\n",
    "def snr(Ps, Pn):\n",
    "    return Ps/Pn"
   ]
  },
  {
   "attachments": {},
   "cell_type": "markdown",
   "metadata": {},
   "source": [
    "### 3b. Noisy signals"
   ]
  },
  {
   "attachments": {},
   "cell_type": "markdown",
   "metadata": {},
   "source": [
    "t, y, n = a3a.noisysignal(t=0, g=a1b.sinewave, fs=1000, tau=0, T=5, s=0.2)\n",
    "a3a.pl`ot_noisysignal(t, y+n, \"Sinusodial\")"
   ]
  },
  {
   "attachments": {},
   "cell_type": "markdown",
   "metadata": {},
   "source": [
    "t, y, n = a3a.noisysignal(t=-5, g=a3a.u, fs=500, tau=0, T=5, s=0.1)\n",
    "a3a.plot_noisysignal(t, y+n, \"Step Function\")"
   ]
  },
  {
   "attachments": {},
   "cell_type": "markdown",
   "metadata": {},
   "source": [
    "t, y, n = a3a.noisysignal(t=0, g=a1b.gammatone, fs=1000, tau=0, T=0.06, s=0.000025, f=100)\n",
    "a3a.plot_noisysignal(t, y+n, title=\"Gammatone\")"
   ]
  },
  {
   "attachments": {},
   "cell_type": "markdown",
   "metadata": {},
   "source": [
    "### 3c. Noise level specified by SNR"
   ]
  },
  {
   "cell_type": "code",
   "execution_count": 3,
   "metadata": {},
   "outputs": [
    {
     "name": "stdout",
     "output_type": "stream",
     "text": [
      "0.16671487391122886\n"
     ]
    }
   ],
   "source": [
    "sigma = 0\n",
    "for _ in range(100):\n",
    "    t, _, n = a3a.noisysignal(t=0, g=a1b.sinewave, fs=1000, tau=0, T=5, s=0.2)\n",
    "    _, x, _ = a3a.noisysignal(t=0, g=a1b.sinewave, fs=1000, tau=0, T=5, s=0)\n",
    "    Ps = a3a.power(x)\n",
    "    Pn = a3a.power(n)\n",
    "    SNR = a3a.snr(Ps, Pn)\n",
    "    sigma += a3a.snr2sigma(x, snr=SNR)\n",
    "print(sigma/100)"
   ]
  }
 ],
 "metadata": {
  "kernelspec": {
   "display_name": "Python 3",
   "language": "python",
   "name": "python3"
  },
  "language_info": {
   "codemirror_mode": {
    "name": "ipython",
    "version": 3
   },
   "file_extension": ".py",
   "mimetype": "text/x-python",
   "name": "python",
   "nbconvert_exporter": "python",
   "pygments_lexer": "ipython3",
   "version": "3.11.1"
  },
  "orig_nbformat": 4,
  "vscode": {
   "interpreter": {
    "hash": "5238573367df39f7286bb46f9ff5f08f63a01a80960060ce41e3c79b190280fa"
   }
  }
 },
 "nbformat": 4,
 "nbformat_minor": 2
}
